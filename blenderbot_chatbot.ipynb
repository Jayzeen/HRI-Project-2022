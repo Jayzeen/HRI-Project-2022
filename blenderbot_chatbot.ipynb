{
 "cells": [
  {
   "cell_type": "markdown",
   "id": "04fb3f6e-cc32-4095-9d51-93eeaacc1bab",
   "metadata": {},
   "source": [
    "<h2> 1) Install Dependencies <h3>"
   ]
  },
  {
   "cell_type": "code",
   "execution_count": 1,
   "id": "09935e3a-2aab-4121-9374-9d88b177c5a2",
   "metadata": {},
   "outputs": [],
   "source": [
    "# Install pytorch\n",
    "# !pip install torch torchvision torchaudio --extra-index-url https://download.pytorch.org/whl/cu116"
   ]
  },
  {
   "cell_type": "code",
   "execution_count": 2,
   "id": "c51fb29b-6f9a-40fe-81de-5b767c1121b4",
   "metadata": {},
   "outputs": [],
   "source": [
    "# !pip install transformers"
   ]
  },
  {
   "cell_type": "markdown",
   "id": "71b4ca88-60a5-4f39-b618-3ef40a9756c1",
   "metadata": {},
   "source": [
    "<h2> 2) Import Model <h3>"
   ]
  },
  {
   "cell_type": "code",
   "execution_count": 3,
   "id": "32d76215-fbe8-4d18-9f82-a94ddf2e28bb",
   "metadata": {
    "collapsed": true,
    "jupyter": {
     "outputs_hidden": true
    },
    "tags": []
   },
   "outputs": [
    {
     "name": "stderr",
     "output_type": "stream",
     "text": [
      "D:\\_Coding Projects\\ML projects\\Conversational Agent using Blenderbot\\chatbots\\lib\\site-packages\\tqdm\\auto.py:22: TqdmWarning: IProgress not found. Please update jupyter and ipywidgets. See https://ipywidgets.readthedocs.io/en/stable/user_install.html\n",
      "  from .autonotebook import tqdm as notebook_tqdm\n"
     ]
    }
   ],
   "source": [
    "# Import the Model class and the Tokenizer\n",
    "from transformers import BlenderbotTokenizer, BlenderbotForConditionalGeneration"
   ]
  },
  {
   "cell_type": "code",
   "execution_count": 4,
   "id": "2157f294-dcd4-4f96-9bf8-42f9c93784ae",
   "metadata": {
    "scrolled": true,
    "tags": []
   },
   "outputs": [],
   "source": [
    "# Download and setup the model and tokenizer\n",
    "tokenizer = BlenderbotTokenizer.from_pretrained(\"facebook/blenderbot-400M-distill\")\n",
    "model = BlenderbotForConditionalGeneration.from_pretrained(\"facebook/blenderbot-400M-distill\")"
   ]
  },
  {
   "cell_type": "markdown",
   "id": "dc797d19-7ebe-4c16-89ed-aff98ade4730",
   "metadata": {},
   "source": [
    "<h2> 3) Converse with the Model <h3>"
   ]
  },
  {
   "cell_type": "code",
   "execution_count": 5,
   "id": "fed9a132-a8aa-4afd-b737-a5b02e28a20c",
   "metadata": {},
   "outputs": [],
   "source": [
    "utterance = \"Hello, My name is jayzeen, I love anime\""
   ]
  },
  {
   "cell_type": "code",
   "execution_count": 6,
   "id": "a73ec28a-2918-47fd-b13c-bc3aca0531ab",
   "metadata": {
    "tags": []
   },
   "outputs": [
    {
     "data": {
      "text/plain": [
       "{'input_ids': tensor([[6950,   19,  863, 1356,  315,  364,  321, 2577,  292,   19,  281,  913,\n",
       "         5125,    2]]), 'attention_mask': tensor([[1, 1, 1, 1, 1, 1, 1, 1, 1, 1, 1, 1, 1, 1]])}"
      ]
     },
     "execution_count": 6,
     "metadata": {},
     "output_type": "execute_result"
    }
   ],
   "source": [
    "# Tokenize the utterance\n",
    "inputs = tokenizer(utterance, return_tensors=\"pt\")   #pt=pytorch tensors\n",
    "inputs"
   ]
  },
  {
   "cell_type": "code",
   "execution_count": 7,
   "id": "83b48b91-e46f-4182-a865-4b6556699c69",
   "metadata": {
    "tags": []
   },
   "outputs": [
    {
     "name": "stderr",
     "output_type": "stream",
     "text": [
      "D:\\_Coding Projects\\ML projects\\Conversational Agent using Blenderbot\\chatbots\\lib\\site-packages\\transformers\\generation_utils.py:1227: UserWarning: Neither `max_length` nor `max_new_tokens` has been set, `max_length` will default to 60 (`self.config.max_length`). Controlling `max_length` via the config is deprecated and `max_length` will be removed from the config in v5 of Transformers -- we recommend using `max_new_tokens` to control the maximum length of the generation.\n",
      "  warnings.warn(\n"
     ]
    },
    {
     "data": {
      "text/plain": [
       "tensor([[   1, 4424,  364,  321,   19, 1305,  287, 2273,  304,   21,  281,  398,\n",
       "         5125,  618,   21,  714,  315,  414, 2297,   38,    2]])"
      ]
     },
     "execution_count": 7,
     "metadata": {},
     "output_type": "execute_result"
    }
   ],
   "source": [
    "# Passing through the utterance to the model\n",
    "res = model.generate(**inputs)\n",
    "res"
   ]
  },
  {
   "cell_type": "code",
   "execution_count": 8,
   "id": "4179dec4-bc7e-4125-9645-aa5ec0ada17c",
   "metadata": {
    "tags": []
   },
   "outputs": [
    {
     "data": {
      "text/plain": [
       "'<s> Hi jay, nice to meet you. I like anime too. What is your favorite?</s>'"
      ]
     },
     "execution_count": 8,
     "metadata": {},
     "output_type": "execute_result"
    }
   ],
   "source": [
    "# Decoding the model output\n",
    "tokenizer.decode(res[0])"
   ]
  },
  {
   "cell_type": "code",
   "execution_count": 9,
   "id": "fe0e5fea-f211-44df-87aa-9934392ce4c8",
   "metadata": {
    "collapsed": true,
    "jupyter": {
     "outputs_hidden": true
    },
    "tags": []
   },
   "outputs": [
    {
     "name": "stdout",
     "output_type": "stream",
     "text": [
      "Collecting SpeechRecognition\n",
      "  Downloading SpeechRecognition-3.8.1-py2.py3-none-any.whl (32.8 MB)\n",
      "Installing collected packages: SpeechRecognition\n",
      "Successfully installed SpeechRecognition-3.8.1\n"
     ]
    },
    {
     "name": "stderr",
     "output_type": "stream",
     "text": [
      "WARNING: You are using pip version 20.2.3; however, version 22.2.2 is available.\n",
      "You should consider upgrading via the 'd:\\_coding projects\\ml projects\\conversational agent using blenderbot\\chatbots\\scripts\\python.exe -m pip install --upgrade pip' command.\n"
     ]
    }
   ],
   "source": [
    "# !pip install SpeechRecognition"
   ]
  },
  {
   "cell_type": "markdown",
   "id": "8e64725f-82af-408a-947b-4ee0ea2096a1",
   "metadata": {},
   "source": [
    "<h3> Make a function for the above process <h3>"
   ]
  },
  {
   "cell_type": "code",
   "execution_count": null,
   "id": "026893c3-4a46-46ac-81a2-f81362639788",
   "metadata": {},
   "outputs": [],
   "source": [
    "# tokenizer = BlenderbotTokenizer.from_pretrained(\"facebook/blenderbot-400M-distill\")\n",
    "# model = BlenderbotForConditionalGeneration.from_pretrained(\"facebook/blenderbot-400M-distill\")"
   ]
  },
  {
   "cell_type": "code",
   "execution_count": 12,
   "id": "8a885252-d960-439a-8811-99ca6dd82daf",
   "metadata": {},
   "outputs": [],
   "source": [
    "def get_response_from_blenderbot(utterance):\n",
    "    inputs = tokenizer(utterance, return_tensors=\"pt\")\n",
    "    res = model.generate(**inputs)\n",
    "    return tokenizer.decode(res[0])"
   ]
  },
  {
   "cell_type": "code",
   "execution_count": 17,
   "id": "6f437194-2a9a-44c1-8f68-806956e8f2cd",
   "metadata": {},
   "outputs": [],
   "source": [
    "response = get_response_from_blenderbot(\"I love you\")"
   ]
  },
  {
   "cell_type": "code",
   "execution_count": 18,
   "id": "7cefed75-c577-4d70-a0d6-a9b156999f8f",
   "metadata": {},
   "outputs": [
    {
     "data": {
      "text/plain": [
       "'<s> Thank you, I appreciate that. I hope you have a great day. I just got home from work.</s>'"
      ]
     },
     "execution_count": 18,
     "metadata": {},
     "output_type": "execute_result"
    }
   ],
   "source": [
    "response"
   ]
  },
  {
   "cell_type": "code",
   "execution_count": null,
   "id": "cd74d27c-cfd6-4732-a3a3-26bd389e41cf",
   "metadata": {},
   "outputs": [],
   "source": []
  },
  {
   "cell_type": "code",
   "execution_count": null,
   "id": "94d98797-f6b5-4c99-a7ce-2f94ccf71263",
   "metadata": {},
   "outputs": [],
   "source": []
  },
  {
   "cell_type": "code",
   "execution_count": null,
   "id": "84ad7350-efb5-4a5b-a128-7683b303af53",
   "metadata": {},
   "outputs": [],
   "source": []
  },
  {
   "cell_type": "code",
   "execution_count": null,
   "id": "6e436980-739e-4862-acbb-a1351870e72b",
   "metadata": {},
   "outputs": [],
   "source": []
  }
 ],
 "metadata": {
  "kernelspec": {
   "display_name": "chatbots",
   "language": "python",
   "name": "chatbots"
  },
  "language_info": {
   "codemirror_mode": {
    "name": "ipython",
    "version": 3
   },
   "file_extension": ".py",
   "mimetype": "text/x-python",
   "name": "python",
   "nbconvert_exporter": "python",
   "pygments_lexer": "ipython3",
   "version": "3.9.1"
  }
 },
 "nbformat": 4,
 "nbformat_minor": 5
}
